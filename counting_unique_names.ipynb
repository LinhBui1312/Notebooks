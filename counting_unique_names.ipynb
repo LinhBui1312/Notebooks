{
  "nbformat": 4,
  "nbformat_minor": 0,
  "metadata": {
    "colab": {
      "name": "counting_unique_names.ipynb",
      "provenance": [],
      "collapsed_sections": [],
      "authorship_tag": "ABX9TyO94u/HLQn1J/oSQI/RPO+O",
      "include_colab_link": true
    },
    "kernelspec": {
      "name": "python3",
      "display_name": "Python 3"
    }
  },
  "cells": [
    {
      "cell_type": "markdown",
      "metadata": {
        "id": "view-in-github",
        "colab_type": "text"
      },
      "source": [
        "<a href=\"https://colab.research.google.com/github/LinhBui1312/Notebooks/blob/master/counting_unique_names.ipynb\" target=\"_parent\"><img src=\"https://colab.research.google.com/assets/colab-badge.svg\" alt=\"Open In Colab\"/></a>"
      ]
    },
    {
      "cell_type": "code",
      "metadata": {
        "id": "3OWVr3AqTd5N",
        "colab_type": "code",
        "colab": {
          "base_uri": "https://localhost:8080/",
          "height": 36
        },
        "outputId": "85f53788-01ac-4fb6-f777-a814050811dd"
      },
      "source": [
        "counts = dict()\n",
        "names = ['alice', 'julia', 'robert', 'alice', 'robert']\n",
        "for name in names:\n",
        "    counts [name] = counts.get(name, 0) + 1\n",
        "print(counts)"
      ],
      "execution_count": 1,
      "outputs": [
        {
          "output_type": "stream",
          "text": [
            "{'alice': 2, 'julia': 1, 'robert': 2}\n"
          ],
          "name": "stdout"
        }
      ]
    }
  ]
}